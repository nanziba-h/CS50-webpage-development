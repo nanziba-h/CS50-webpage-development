{
  "nbformat": 4,
  "nbformat_minor": 0,
  "metadata": {
    "colab": {
      "provenance": [],
      "authorship_tag": "ABX9TyOUSWr1cCnwD2/K5CB7txIv",
      "include_colab_link": true
    },
    "kernelspec": {
      "name": "python3",
      "display_name": "Python 3"
    },
    "language_info": {
      "name": "python"
    }
  },
  "cells": [
    {
      "cell_type": "markdown",
      "metadata": {
        "id": "view-in-github",
        "colab_type": "text"
      },
      "source": [
        "<a href=\"https://colab.research.google.com/github/nanziba-h/CS50-webpage-development/blob/main/Voting.ipynb\" target=\"_parent\"><img src=\"https://colab.research.google.com/assets/colab-badge.svg\" alt=\"Open In Colab\"/></a>"
      ]
    },
    {
      "cell_type": "code",
      "execution_count": 1,
      "metadata": {
        "colab": {
          "base_uri": "https://localhost:8080/",
          "height": 601
        },
        "id": "46x0EAz3cXLN",
        "outputId": "288452ae-0eb3-4294-fb13-d0872de5d037"
      },
      "outputs": [
        {
          "output_type": "error",
          "ename": "KeyboardInterrupt",
          "evalue": "Interrupted by user",
          "traceback": [
            "\u001b[0;31m---------------------------------------------------------------------------\u001b[0m",
            "\u001b[0;31mKeyboardInterrupt\u001b[0m                         Traceback (most recent call last)",
            "\u001b[0;32m/tmp/ipython-input-2627335508.py\u001b[0m in \u001b[0;36m<cell line: 0>\u001b[0;34m()\u001b[0m\n\u001b[1;32m     91\u001b[0m \u001b[0;34m\u001b[0m\u001b[0m\n\u001b[1;32m     92\u001b[0m \u001b[0;32mif\u001b[0m \u001b[0m__name__\u001b[0m \u001b[0;34m==\u001b[0m \u001b[0;34m\"__main__\"\u001b[0m\u001b[0;34m:\u001b[0m\u001b[0;34m\u001b[0m\u001b[0;34m\u001b[0m\u001b[0m\n\u001b[0;32m---> 93\u001b[0;31m     \u001b[0mmain\u001b[0m\u001b[0;34m(\u001b[0m\u001b[0;34m)\u001b[0m\u001b[0;34m\u001b[0m\u001b[0;34m\u001b[0m\u001b[0m\n\u001b[0m",
            "\u001b[0;32m/tmp/ipython-input-2627335508.py\u001b[0m in \u001b[0;36mmain\u001b[0;34m()\u001b[0m\n\u001b[1;32m     14\u001b[0m \u001b[0;32mdef\u001b[0m \u001b[0mmain\u001b[0m\u001b[0;34m(\u001b[0m\u001b[0;34m)\u001b[0m\u001b[0;34m:\u001b[0m\u001b[0;34m\u001b[0m\u001b[0;34m\u001b[0m\u001b[0m\n\u001b[1;32m     15\u001b[0m     \u001b[0;31m#input number of groups\u001b[0m\u001b[0;34m\u001b[0m\u001b[0;34m\u001b[0m\u001b[0m\n\u001b[0;32m---> 16\u001b[0;31m     \u001b[0mgroup_num\u001b[0m \u001b[0;34m=\u001b[0m \u001b[0mint\u001b[0m\u001b[0;34m(\u001b[0m\u001b[0minput\u001b[0m\u001b[0;34m(\u001b[0m\u001b[0;34m\"Number of the Academic years to elect representative for: \"\u001b[0m\u001b[0;34m)\u001b[0m\u001b[0;34m)\u001b[0m\u001b[0;34m\u001b[0m\u001b[0;34m\u001b[0m\u001b[0m\n\u001b[0m\u001b[1;32m     17\u001b[0m \u001b[0;34m\u001b[0m\u001b[0m\n\u001b[1;32m     18\u001b[0m     \u001b[0;31m#input nominee names until user enters an empty string\u001b[0m\u001b[0;34m\u001b[0m\u001b[0;34m\u001b[0m\u001b[0m\n",
            "\u001b[0;32m/usr/local/lib/python3.12/dist-packages/ipykernel/kernelbase.py\u001b[0m in \u001b[0;36mraw_input\u001b[0;34m(self, prompt)\u001b[0m\n\u001b[1;32m   1175\u001b[0m                 \u001b[0;34m\"raw_input was called, but this frontend does not support input requests.\"\u001b[0m\u001b[0;34m\u001b[0m\u001b[0;34m\u001b[0m\u001b[0m\n\u001b[1;32m   1176\u001b[0m             )\n\u001b[0;32m-> 1177\u001b[0;31m         return self._input_request(\n\u001b[0m\u001b[1;32m   1178\u001b[0m             \u001b[0mstr\u001b[0m\u001b[0;34m(\u001b[0m\u001b[0mprompt\u001b[0m\u001b[0;34m)\u001b[0m\u001b[0;34m,\u001b[0m\u001b[0;34m\u001b[0m\u001b[0;34m\u001b[0m\u001b[0m\n\u001b[1;32m   1179\u001b[0m             \u001b[0mself\u001b[0m\u001b[0;34m.\u001b[0m\u001b[0m_parent_ident\u001b[0m\u001b[0;34m[\u001b[0m\u001b[0;34m\"shell\"\u001b[0m\u001b[0;34m]\u001b[0m\u001b[0;34m,\u001b[0m\u001b[0;34m\u001b[0m\u001b[0;34m\u001b[0m\u001b[0m\n",
            "\u001b[0;32m/usr/local/lib/python3.12/dist-packages/ipykernel/kernelbase.py\u001b[0m in \u001b[0;36m_input_request\u001b[0;34m(self, prompt, ident, parent, password)\u001b[0m\n\u001b[1;32m   1217\u001b[0m             \u001b[0;32mexcept\u001b[0m \u001b[0mKeyboardInterrupt\u001b[0m\u001b[0;34m:\u001b[0m\u001b[0;34m\u001b[0m\u001b[0;34m\u001b[0m\u001b[0m\n\u001b[1;32m   1218\u001b[0m                 \u001b[0;31m# re-raise KeyboardInterrupt, to truncate traceback\u001b[0m\u001b[0;34m\u001b[0m\u001b[0;34m\u001b[0m\u001b[0m\n\u001b[0;32m-> 1219\u001b[0;31m                 \u001b[0;32mraise\u001b[0m \u001b[0mKeyboardInterrupt\u001b[0m\u001b[0;34m(\u001b[0m\u001b[0;34m\"Interrupted by user\"\u001b[0m\u001b[0;34m)\u001b[0m \u001b[0;32mfrom\u001b[0m \u001b[0;32mNone\u001b[0m\u001b[0;34m\u001b[0m\u001b[0;34m\u001b[0m\u001b[0m\n\u001b[0m\u001b[1;32m   1220\u001b[0m             \u001b[0;32mexcept\u001b[0m \u001b[0mException\u001b[0m\u001b[0;34m:\u001b[0m\u001b[0;34m\u001b[0m\u001b[0;34m\u001b[0m\u001b[0m\n\u001b[1;32m   1221\u001b[0m                 \u001b[0mself\u001b[0m\u001b[0;34m.\u001b[0m\u001b[0mlog\u001b[0m\u001b[0;34m.\u001b[0m\u001b[0mwarning\u001b[0m\u001b[0;34m(\u001b[0m\u001b[0;34m\"Invalid Message:\"\u001b[0m\u001b[0;34m,\u001b[0m \u001b[0mexc_info\u001b[0m\u001b[0;34m=\u001b[0m\u001b[0;32mTrue\u001b[0m\u001b[0;34m)\u001b[0m\u001b[0;34m\u001b[0m\u001b[0;34m\u001b[0m\u001b[0m\n",
            "\u001b[0;31mKeyboardInterrupt\u001b[0m: Interrupted by user"
          ]
        }
      ],
      "source": [
        "'''\n",
        "--------------------------------------------------------------------------------------------------------\n",
        "This program elects batch representatives for each university academic year based on votes.\n",
        "\n",
        "- Inputs how many academic years we are electing representatives for.\n",
        "- Takes in number and names of the nominees who want to be representatives.\n",
        "- Inputs votes for each nominee.\n",
        "- elects representative based on those votes\n",
        "- Outputs total votes won by each nominee regardless of the academic year\n",
        "\n",
        "--------------------------------------------------------------------------------------------------------\n",
        "'''\n",
        "\n",
        "def main():\n",
        "    #input number of groups\n",
        "    group_num = int(input(\"Number of the Academic years to elect representative for: \"))\n",
        "\n",
        "    #input nominee names until user enters an empty string\n",
        "    nominee = []\n",
        "    nominee_num = 0\n",
        "    while True:\n",
        "        nominee_name = str(input(\"Nominee name (press enter when done inputing nominee names): \"))\n",
        "\n",
        "        if nominee_name == \"\":\n",
        "            break\n",
        "\n",
        "        else:\n",
        "            nominee.append(nominee_name)\n",
        "            nominee_num += 1\n",
        "\n",
        "    #print number of finalised nominee names\n",
        "    print(f\"\\n{nominee_num} nominee(s):\")\n",
        "\n",
        "    for i in range(nominee_num):\n",
        "        print(f\"- {nominee[i]}\")\n",
        "\n",
        "\n",
        "    #elect representatives from each academic year\n",
        "    vote_list = elec_rep(group_num, nominee_num, nominee)\n",
        "\n",
        "    #print total votes each nominee won regardless of the year\n",
        "    tot_vote(nominee_num, nominee, vote_list)\n",
        "\n",
        "\n",
        "\n",
        "\n",
        "#-------------------------------------- HELPER FUNCTIONS --------------------------------------------\n",
        "\n",
        "def elec_rep(group_num, nominee_num, nominee):\n",
        "    vote_list = []\n",
        "    #elect rep based on max vote of nominee\n",
        "    max_vote = 0\n",
        "    print(\"\\n\")\n",
        "\n",
        "    for j in range(group_num):\n",
        "        #ask which academic year we are electing rep for\n",
        "        group_name = str(input(\"Name of Academic year: \"))\n",
        "\n",
        "        #nominee votes for each nominee for that academic year\n",
        "        for k in range(nominee_num):\n",
        "            nominee_vote = int(input(f\"Votes for {nominee[k]}: \"))\n",
        "            #store all nominee votes for that year in a list\n",
        "            vote_list.append(nominee_vote)\n",
        "\n",
        "            #winner\n",
        "            if nominee_vote > max_vote:\n",
        "                max_vote = nominee_vote\n",
        "                winning_nominee = nominee[k]\n",
        "\n",
        "        #re-initialising max vote to zero for next academic year\n",
        "        max_vote = 0\n",
        "\n",
        "        #print who the nominee is with the most votes\n",
        "        print(f\"Batch representative of {group_name} is {winning_nominee}\\n\")\n",
        "\n",
        "    return vote_list\n",
        "\n",
        "\n",
        "\n",
        "def tot_vote(nominee_num, nominee, vote_list):\n",
        "    #total votes won\n",
        "    print(\"Total votes won:\")\n",
        "\n",
        "\n",
        "    for m in range(nominee_num):\n",
        "        #printing total votes for each nominee in a year\n",
        "        print(f\"{nominee[m]}: {sum(vote_list[m::nominee_num])} votes\")\n",
        "        #[m::nominee_num] -> starts at m and skips nominee_num elements in list\n",
        "\n",
        "\n",
        "\n",
        "if __name__ == \"__main__\":\n",
        "    main()"
      ]
    }
  ]
}